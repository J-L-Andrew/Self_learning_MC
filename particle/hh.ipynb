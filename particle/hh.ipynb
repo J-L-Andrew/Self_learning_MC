{
 "cells": [
  {
   "cell_type": "code",
   "execution_count": 1,
   "metadata": {},
   "outputs": [],
   "source": [
    "import numpy as np\n",
    "from base import Particle\n",
    "from superellipsoid import SuperEllipsoid\n",
    "\n",
    "import sys\n",
    "sys.path.append(r'/mnt/Edisk/andrew/Self_learning_MC')\n",
    "from utils import *\n",
    "from pytorch3d import transforms\n",
    "from scipy import optimize\n",
    "\n"
   ]
  },
  {
   "cell_type": "code",
   "execution_count": 2,
   "metadata": {},
   "outputs": [],
   "source": [
    "from packing import Packing\n",
    "\n",
    "packing = Packing()\n",
    "\n",
    "packing.particle_type = 'ellipsoid'\n",
    "packing.num_particles = 2\n",
    "\n",
    "packing.dim = 3\n",
    "packing.particles = [SuperEllipsoid(2., 1., 1., 1.) for i in range(packing.num_particles)]\n",
    "\n",
    "for i, particle in enumerate(packing.particles):\n",
    "    particle.name = 'superellipsoid %d' % i\n",
    "    particle.color = np.array([0.51,0.792,0.992])\n",
    "\n",
    "packing.particles[0].centroid = np.array([0., 0., 0.])\n",
    "packing.particles[1].centroid = np.array([1., 1., 1.])\n",
    "\n",
    "packing.particles[0].orientation = np.array([1., 0., 0., 0.])\n",
    "packing.particles[1].orientation = np.array([0., 1., 0., 0.])\n",
    "\n"
   ]
  },
  {
   "cell_type": "code",
   "execution_count": 3,
   "metadata": {},
   "outputs": [
    {
     "ename": "TypeError",
     "evalue": "unbind() received an invalid combination of arguments - got (numpy.ndarray, int), but expected one of:\n * (Tensor input, int dim)\n      didn't match because some of the arguments have invalid types: (!numpy.ndarray!, int)\n * (Tensor input, name dim)\n      didn't match because some of the arguments have invalid types: (!numpy.ndarray!, !int!)\n",
     "output_type": "error",
     "traceback": [
      "\u001b[0;31m---------------------------------------------------------------------------\u001b[0m",
      "\u001b[0;31mTypeError\u001b[0m                                 Traceback (most recent call last)",
      "\u001b[1;32m/mnt/Edisk/andrew/Self_learning_MC/particle/hh.ipynb Cell 3\u001b[0m in \u001b[0;36m<cell line: 2>\u001b[0;34m()\u001b[0m\n\u001b[1;32m      <a href='vscode-notebook-cell://ssh-remote%2B162.105.25.80/mnt/Edisk/andrew/Self_learning_MC/particle/hh.ipynb#W2sdnNjb2RlLXJlbW90ZQ%3D%3D?line=0'>1</a>\u001b[0m \u001b[39mfrom\u001b[39;00m \u001b[39msuperellipsoid\u001b[39;00m \u001b[39mimport\u001b[39;00m min_d\n\u001b[0;32m----> <a href='vscode-notebook-cell://ssh-remote%2B162.105.25.80/mnt/Edisk/andrew/Self_learning_MC/particle/hh.ipynb#W2sdnNjb2RlLXJlbW90ZQ%3D%3D?line=1'>2</a>\u001b[0m min_d(packing\u001b[39m.\u001b[39;49mparticles[\u001b[39m0\u001b[39;49m], packing\u001b[39m.\u001b[39;49mparticles[\u001b[39m1\u001b[39;49m])\n",
      "File \u001b[0;32m/mnt/Edisk/andrew/Self_learning_MC/particle/superellipsoid.py:96\u001b[0m, in \u001b[0;36mmin_d\u001b[0;34m(p1, p2)\u001b[0m\n\u001b[1;32m     92\u001b[0m \u001b[39m\"\"\"\u001b[39;00m\n\u001b[1;32m     93\u001b[0m \u001b[39mcalculate overlap potential (energy) between two particles\u001b[39;00m\n\u001b[1;32m     94\u001b[0m \u001b[39m\"\"\"\u001b[39;00m\n\u001b[1;32m     95\u001b[0m x0 \u001b[39m=\u001b[39m np\u001b[39m.\u001b[39mones(\u001b[39m9\u001b[39m)\n\u001b[0;32m---> 96\u001b[0m res \u001b[39m=\u001b[39m optimize\u001b[39m.\u001b[39;49mminimize(\u001b[39mlambda\u001b[39;49;00m x: config_dis(x, p1, p2), x0, method\u001b[39m=\u001b[39;49m\u001b[39m'\u001b[39;49m\u001b[39mSLSQP\u001b[39;49m\u001b[39m'\u001b[39;49m)\n\u001b[1;32m     98\u001b[0m resolve_overlap(res, p1, p2)\n",
      "File \u001b[0;32m~/software/anaconda3/envs/pytorch3d/lib/python3.8/site-packages/scipy/optimize/_minimize.py:708\u001b[0m, in \u001b[0;36mminimize\u001b[0;34m(fun, x0, args, method, jac, hess, hessp, bounds, constraints, tol, callback, options)\u001b[0m\n\u001b[1;32m    705\u001b[0m     res \u001b[39m=\u001b[39m _minimize_cobyla(fun, x0, args, constraints, callback\u001b[39m=\u001b[39mcallback,\n\u001b[1;32m    706\u001b[0m                             \u001b[39m*\u001b[39m\u001b[39m*\u001b[39moptions)\n\u001b[1;32m    707\u001b[0m \u001b[39melif\u001b[39;00m meth \u001b[39m==\u001b[39m \u001b[39m'\u001b[39m\u001b[39mslsqp\u001b[39m\u001b[39m'\u001b[39m:\n\u001b[0;32m--> 708\u001b[0m     res \u001b[39m=\u001b[39m _minimize_slsqp(fun, x0, args, jac, bounds,\n\u001b[1;32m    709\u001b[0m                           constraints, callback\u001b[39m=\u001b[39;49mcallback, \u001b[39m*\u001b[39;49m\u001b[39m*\u001b[39;49moptions)\n\u001b[1;32m    710\u001b[0m \u001b[39melif\u001b[39;00m meth \u001b[39m==\u001b[39m \u001b[39m'\u001b[39m\u001b[39mtrust-constr\u001b[39m\u001b[39m'\u001b[39m:\n\u001b[1;32m    711\u001b[0m     res \u001b[39m=\u001b[39m _minimize_trustregion_constr(fun, x0, args, jac, hess, hessp,\n\u001b[1;32m    712\u001b[0m                                        bounds, constraints,\n\u001b[1;32m    713\u001b[0m                                        callback\u001b[39m=\u001b[39mcallback, \u001b[39m*\u001b[39m\u001b[39m*\u001b[39moptions)\n",
      "File \u001b[0;32m~/software/anaconda3/envs/pytorch3d/lib/python3.8/site-packages/scipy/optimize/_slsqp_py.py:374\u001b[0m, in \u001b[0;36m_minimize_slsqp\u001b[0;34m(func, x0, args, jac, bounds, constraints, maxiter, ftol, iprint, disp, eps, callback, finite_diff_rel_step, **unknown_options)\u001b[0m\n\u001b[1;32m    371\u001b[0m     xu[infbnd[:, \u001b[39m1\u001b[39m]] \u001b[39m=\u001b[39m np\u001b[39m.\u001b[39mnan\n\u001b[1;32m    373\u001b[0m \u001b[39m# ScalarFunction provides function and gradient evaluation\u001b[39;00m\n\u001b[0;32m--> 374\u001b[0m sf \u001b[39m=\u001b[39m _prepare_scalar_function(func, x, jac\u001b[39m=\u001b[39;49mjac, args\u001b[39m=\u001b[39;49margs, epsilon\u001b[39m=\u001b[39;49meps,\n\u001b[1;32m    375\u001b[0m                               finite_diff_rel_step\u001b[39m=\u001b[39;49mfinite_diff_rel_step,\n\u001b[1;32m    376\u001b[0m                               bounds\u001b[39m=\u001b[39;49mnew_bounds)\n\u001b[1;32m    377\u001b[0m \u001b[39m# gh11403 SLSQP sometimes exceeds bounds by 1 or 2 ULP, make sure this\u001b[39;00m\n\u001b[1;32m    378\u001b[0m \u001b[39m# doesn't get sent to the func/grad evaluator.\u001b[39;00m\n\u001b[1;32m    379\u001b[0m wrapped_fun \u001b[39m=\u001b[39m _clip_x_for_func(sf\u001b[39m.\u001b[39mfun, new_bounds)\n",
      "File \u001b[0;32m~/software/anaconda3/envs/pytorch3d/lib/python3.8/site-packages/scipy/optimize/_optimize.py:263\u001b[0m, in \u001b[0;36m_prepare_scalar_function\u001b[0;34m(fun, x0, jac, args, bounds, epsilon, finite_diff_rel_step, hess)\u001b[0m\n\u001b[1;32m    259\u001b[0m     bounds \u001b[39m=\u001b[39m (\u001b[39m-\u001b[39mnp\u001b[39m.\u001b[39minf, np\u001b[39m.\u001b[39minf)\n\u001b[1;32m    261\u001b[0m \u001b[39m# ScalarFunction caches. Reuse of fun(x) during grad\u001b[39;00m\n\u001b[1;32m    262\u001b[0m \u001b[39m# calculation reduces overall function evaluations.\u001b[39;00m\n\u001b[0;32m--> 263\u001b[0m sf \u001b[39m=\u001b[39m ScalarFunction(fun, x0, args, grad, hess,\n\u001b[1;32m    264\u001b[0m                     finite_diff_rel_step, bounds, epsilon\u001b[39m=\u001b[39;49mepsilon)\n\u001b[1;32m    266\u001b[0m \u001b[39mreturn\u001b[39;00m sf\n",
      "File \u001b[0;32m~/software/anaconda3/envs/pytorch3d/lib/python3.8/site-packages/scipy/optimize/_differentiable_functions.py:158\u001b[0m, in \u001b[0;36mScalarFunction.__init__\u001b[0;34m(self, fun, x0, args, grad, hess, finite_diff_rel_step, finite_diff_bounds, epsilon)\u001b[0m\n\u001b[1;32m    155\u001b[0m     \u001b[39mself\u001b[39m\u001b[39m.\u001b[39mf \u001b[39m=\u001b[39m fun_wrapped(\u001b[39mself\u001b[39m\u001b[39m.\u001b[39mx)\n\u001b[1;32m    157\u001b[0m \u001b[39mself\u001b[39m\u001b[39m.\u001b[39m_update_fun_impl \u001b[39m=\u001b[39m update_fun\n\u001b[0;32m--> 158\u001b[0m \u001b[39mself\u001b[39;49m\u001b[39m.\u001b[39;49m_update_fun()\n\u001b[1;32m    160\u001b[0m \u001b[39m# Gradient evaluation\u001b[39;00m\n\u001b[1;32m    161\u001b[0m \u001b[39mif\u001b[39;00m callable(grad):\n",
      "File \u001b[0;32m~/software/anaconda3/envs/pytorch3d/lib/python3.8/site-packages/scipy/optimize/_differentiable_functions.py:251\u001b[0m, in \u001b[0;36mScalarFunction._update_fun\u001b[0;34m(self)\u001b[0m\n\u001b[1;32m    249\u001b[0m \u001b[39mdef\u001b[39;00m \u001b[39m_update_fun\u001b[39m(\u001b[39mself\u001b[39m):\n\u001b[1;32m    250\u001b[0m     \u001b[39mif\u001b[39;00m \u001b[39mnot\u001b[39;00m \u001b[39mself\u001b[39m\u001b[39m.\u001b[39mf_updated:\n\u001b[0;32m--> 251\u001b[0m         \u001b[39mself\u001b[39;49m\u001b[39m.\u001b[39;49m_update_fun_impl()\n\u001b[1;32m    252\u001b[0m         \u001b[39mself\u001b[39m\u001b[39m.\u001b[39mf_updated \u001b[39m=\u001b[39m \u001b[39mTrue\u001b[39;00m\n",
      "File \u001b[0;32m~/software/anaconda3/envs/pytorch3d/lib/python3.8/site-packages/scipy/optimize/_differentiable_functions.py:155\u001b[0m, in \u001b[0;36mScalarFunction.__init__.<locals>.update_fun\u001b[0;34m()\u001b[0m\n\u001b[1;32m    154\u001b[0m \u001b[39mdef\u001b[39;00m \u001b[39mupdate_fun\u001b[39m():\n\u001b[0;32m--> 155\u001b[0m     \u001b[39mself\u001b[39m\u001b[39m.\u001b[39mf \u001b[39m=\u001b[39m fun_wrapped(\u001b[39mself\u001b[39;49m\u001b[39m.\u001b[39;49mx)\n",
      "File \u001b[0;32m~/software/anaconda3/envs/pytorch3d/lib/python3.8/site-packages/scipy/optimize/_differentiable_functions.py:137\u001b[0m, in \u001b[0;36mScalarFunction.__init__.<locals>.fun_wrapped\u001b[0;34m(x)\u001b[0m\n\u001b[1;32m    133\u001b[0m \u001b[39mself\u001b[39m\u001b[39m.\u001b[39mnfev \u001b[39m+\u001b[39m\u001b[39m=\u001b[39m \u001b[39m1\u001b[39m\n\u001b[1;32m    134\u001b[0m \u001b[39m# Send a copy because the user may overwrite it.\u001b[39;00m\n\u001b[1;32m    135\u001b[0m \u001b[39m# Overwriting results in undefined behaviour because\u001b[39;00m\n\u001b[1;32m    136\u001b[0m \u001b[39m# fun(self.x) will change self.x, with the two no longer linked.\u001b[39;00m\n\u001b[0;32m--> 137\u001b[0m fx \u001b[39m=\u001b[39m fun(np\u001b[39m.\u001b[39;49mcopy(x), \u001b[39m*\u001b[39;49margs)\n\u001b[1;32m    138\u001b[0m \u001b[39m# Make sure the function returns a true scalar\u001b[39;00m\n\u001b[1;32m    139\u001b[0m \u001b[39mif\u001b[39;00m \u001b[39mnot\u001b[39;00m np\u001b[39m.\u001b[39misscalar(fx):\n",
      "File \u001b[0;32m/mnt/Edisk/andrew/Self_learning_MC/particle/superellipsoid.py:96\u001b[0m, in \u001b[0;36mmin_d.<locals>.<lambda>\u001b[0;34m(x)\u001b[0m\n\u001b[1;32m     92\u001b[0m \u001b[39m\"\"\"\u001b[39;00m\n\u001b[1;32m     93\u001b[0m \u001b[39mcalculate overlap potential (energy) between two particles\u001b[39;00m\n\u001b[1;32m     94\u001b[0m \u001b[39m\"\"\"\u001b[39;00m\n\u001b[1;32m     95\u001b[0m x0 \u001b[39m=\u001b[39m np\u001b[39m.\u001b[39mones(\u001b[39m9\u001b[39m)\n\u001b[0;32m---> 96\u001b[0m res \u001b[39m=\u001b[39m optimize\u001b[39m.\u001b[39mminimize(\u001b[39mlambda\u001b[39;00m x: config_dis(x, p1, p2), x0, method\u001b[39m=\u001b[39m\u001b[39m'\u001b[39m\u001b[39mSLSQP\u001b[39m\u001b[39m'\u001b[39m)\n\u001b[1;32m     98\u001b[0m resolve_overlap(res, p1, p2)\n",
      "File \u001b[0;32m/mnt/Edisk/andrew/Self_learning_MC/particle/superellipsoid.py:86\u001b[0m, in \u001b[0;36mconfig_dis\u001b[0;34m(x, p1, p2)\u001b[0m\n\u001b[1;32m     83\u001b[0m r12 \u001b[39m=\u001b[39m p1\u001b[39m.\u001b[39mcentroid \u001b[39m-\u001b[39m p2\u001b[39m.\u001b[39mcentroid\n\u001b[1;32m     84\u001b[0m delta_h \u001b[39m=\u001b[39m p1\u001b[39m.\u001b[39msupport_func(v1) \u001b[39m+\u001b[39m p2\u001b[39m.\u001b[39msupport_func(\u001b[39m-\u001b[39mv2) \u001b[39m+\u001b[39m np\u001b[39m.\u001b[39mdot(r12, u)\n\u001b[0;32m---> 86\u001b[0m y \u001b[39m=\u001b[39m (delta_h\u001b[39m*\u001b[39m\u001b[39m*\u001b[39m\u001b[39m2.\u001b[39m)\u001b[39m/\u001b[39m\u001b[39m2.\u001b[39m \u001b[39m+\u001b[39m np\u001b[39m.\u001b[39mlinalg\u001b[39m.\u001b[39mnorm(np\u001b[39m.\u001b[39mmatmul(p1\u001b[39m.\u001b[39;49mrot_mat, u\u001b[39m.\u001b[39mT)\u001b[39m.\u001b[39mT\u001b[39m-\u001b[39mv1)\u001b[39m*\u001b[39m\u001b[39m*\u001b[39m\u001b[39m2.\u001b[39m \u001b[39m+\u001b[39m np\u001b[39m.\u001b[39mlinalg\u001b[39m.\u001b[39mnorm(np\u001b[39m.\u001b[39mmatmul(p2\u001b[39m.\u001b[39mrot_mat, u\u001b[39m.\u001b[39mT)\u001b[39m.\u001b[39mT\u001b[39m-\u001b[39mv2)\u001b[39m*\u001b[39m\u001b[39m*\u001b[39m\u001b[39m2.\u001b[39m\n\u001b[1;32m     87\u001b[0m y \u001b[39m/\u001b[39m\u001b[39m=\u001b[39m (np\u001b[39m.\u001b[39mlinalg\u001b[39m.\u001b[39mnorm(u)\u001b[39m*\u001b[39m\u001b[39m*\u001b[39m\u001b[39m2.\u001b[39m)\n\u001b[1;32m     89\u001b[0m \u001b[39mreturn\u001b[39;00m y\n",
      "File \u001b[0;32m/mnt/Edisk/andrew/Self_learning_MC/particle/base.py:30\u001b[0m, in \u001b[0;36mParticle.rot_mat\u001b[0;34m(self)\u001b[0m\n\u001b[1;32m     27\u001b[0m \u001b[39m@property\u001b[39m\n\u001b[1;32m     28\u001b[0m \u001b[39mdef\u001b[39;00m \u001b[39mrot_mat\u001b[39m(\u001b[39mself\u001b[39m):\n\u001b[1;32m     29\u001b[0m     \u001b[39m\"\"\" note that: rot_mat = Rz*Ry*Rx = Q^T \"\"\"\u001b[39;00m\n\u001b[0;32m---> 30\u001b[0m     \u001b[39mreturn\u001b[39;00m transforms\u001b[39m.\u001b[39;49mquaternion_to_matrix(\u001b[39mself\u001b[39;49m\u001b[39m.\u001b[39;49morientation)\n",
      "File \u001b[0;32m~/software/anaconda3/envs/pytorch3d/lib/python3.8/site-packages/pytorch3d/transforms/rotation_conversions.py:52\u001b[0m, in \u001b[0;36mquaternion_to_matrix\u001b[0;34m(quaternions)\u001b[0m\n\u001b[1;32m     41\u001b[0m \u001b[39mdef\u001b[39;00m \u001b[39mquaternion_to_matrix\u001b[39m(quaternions: torch\u001b[39m.\u001b[39mTensor) \u001b[39m-\u001b[39m\u001b[39m>\u001b[39m torch\u001b[39m.\u001b[39mTensor:\n\u001b[1;32m     42\u001b[0m     \u001b[39m\"\"\"\u001b[39;00m\n\u001b[1;32m     43\u001b[0m \u001b[39m    Convert rotations given as quaternions to rotation matrices.\u001b[39;00m\n\u001b[1;32m     44\u001b[0m \n\u001b[0;32m   (...)\u001b[0m\n\u001b[1;32m     50\u001b[0m \u001b[39m        Rotation matrices as tensor of shape (..., 3, 3).\u001b[39;00m\n\u001b[1;32m     51\u001b[0m \u001b[39m    \"\"\"\u001b[39;00m\n\u001b[0;32m---> 52\u001b[0m     r, i, j, k \u001b[39m=\u001b[39m torch\u001b[39m.\u001b[39;49munbind(quaternions, \u001b[39m-\u001b[39;49m\u001b[39m1\u001b[39;49m)\n\u001b[1;32m     53\u001b[0m     \u001b[39m# pyre-fixme[58]: `/` is not supported for operand types `float` and `Tensor`.\u001b[39;00m\n\u001b[1;32m     54\u001b[0m     two_s \u001b[39m=\u001b[39m \u001b[39m2.0\u001b[39m \u001b[39m/\u001b[39m (quaternions \u001b[39m*\u001b[39m quaternions)\u001b[39m.\u001b[39msum(\u001b[39m-\u001b[39m\u001b[39m1\u001b[39m)\n",
      "\u001b[0;31mTypeError\u001b[0m: unbind() received an invalid combination of arguments - got (numpy.ndarray, int), but expected one of:\n * (Tensor input, int dim)\n      didn't match because some of the arguments have invalid types: (!numpy.ndarray!, int)\n * (Tensor input, name dim)\n      didn't match because some of the arguments have invalid types: (!numpy.ndarray!, !int!)\n"
     ]
    }
   ],
   "source": [
    "from superellipsoid import min_d\n",
    "min_d(packing.particles[0], packing.particles[1])"
   ]
  },
  {
   "cell_type": "code",
   "execution_count": null,
   "metadata": {},
   "outputs": [
    {
     "data": {
      "text/plain": [
       "1.0"
      ]
     },
     "execution_count": 10,
     "metadata": {},
     "output_type": "execute_result"
    }
   ],
   "source": [
    "g = np.ones(9)\n",
    "u, v1, v2 = g[0:3], g[3:6], g[6:9]\n",
    "u[2]"
   ]
  }
 ],
 "metadata": {
  "kernelspec": {
   "display_name": "Python 3.8.13 ('pytorch3d')",
   "language": "python",
   "name": "python3"
  },
  "language_info": {
   "codemirror_mode": {
    "name": "ipython",
    "version": 3
   },
   "file_extension": ".py",
   "mimetype": "text/x-python",
   "name": "python",
   "nbconvert_exporter": "python",
   "pygments_lexer": "ipython3",
   "version": "3.8.13"
  },
  "orig_nbformat": 4,
  "vscode": {
   "interpreter": {
    "hash": "5b14629d4c2508e12df5a608d99e923bb6a1a917a20383be71c5649ced98a298"
   }
  }
 },
 "nbformat": 4,
 "nbformat_minor": 2
}
